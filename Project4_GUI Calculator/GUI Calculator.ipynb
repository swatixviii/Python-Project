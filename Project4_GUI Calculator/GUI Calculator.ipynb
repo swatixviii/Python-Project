{
 "cells": [
  {
   "cell_type": "code",
   "execution_count": 3,
   "id": "16ec7c75-4a6a-4ca5-8792-4b14f1d962e1",
   "metadata": {},
   "outputs": [],
   "source": [
    "import tkinter as tk\n",
    "\n",
    "# Function to update the entry widget when a button is pressed\n",
    "def button_click(value):\n",
    "    entry_field.insert(tk.END, value)\n",
    "\n",
    "# Function to evaluate the expression in the entry widget\n",
    "def evaluate_expression():\n",
    "    try:\n",
    "        result = eval(entry_field.get())\n",
    "        entry_field.delete(0, tk.END)\n",
    "        entry_field.insert(0, str(result))\n",
    "    except Exception as e:\n",
    "        entry_field.delete(0, tk.END)\n",
    "        entry_field.insert(0, \"Error\")\n",
    "\n",
    "# Function to clear the entry widget\n",
    "def clear_entry():\n",
    "    entry_field.delete(0, tk.END)\n",
    "\n",
    "# Create the main window\n",
    "root = tk.Tk()\n",
    "root.title(\"Calculator\")\n",
    "\n",
    "# Create an entry widget for displaying input and results\n",
    "entry_field = tk.Entry(root, width=25, borderwidth=5, font=('Arial', 16))\n",
    "entry_field.grid(row=0, column=0, columnspan=4)\n",
    "\n",
    "# List of button labels for the calculator\n",
    "buttons = [\n",
    "    ('7', 1, 0), ('8', 1, 1), ('9', 1, 2), ('/', 1, 3),\n",
    "    ('4', 2, 0), ('5', 2, 1), ('6', 2, 2), ('*', 2, 3),\n",
    "    ('1', 3, 0), ('2', 3, 1), ('3', 3, 2), ('-', 3, 3),\n",
    "    ('0', 4, 0), ('.', 4, 1), ('+', 4, 2)\n",
    "]\n",
    "\n",
    "# Create buttons and place them on the window\n",
    "for (text, row, col) in buttons:\n",
    "    button = tk.Button(root, text=text, width=5, height=2, command=lambda value=text: button_click(value))\n",
    "    button.grid(row=row, column=col)\n",
    "\n",
    "# Add the equals button\n",
    "equals_button = tk.Button(root, text='=', width=5, height=2, command=evaluate_expression)\n",
    "equals_button.grid(row=4, column=3)\n",
    "\n",
    "# Add a clear button\n",
    "clear_button = tk.Button(root, text='C', width=5, height=2, command=clear_entry)\n",
    "clear_button.grid(row=5, column=0, columnspan=4, sticky='we')\n",
    "\n",
    "# Start the main loop\n",
    "root.mainloop()\n"
   ]
  },
  {
   "cell_type": "code",
   "execution_count": null,
   "id": "4a4358b2-b19c-45db-a1fb-88cadc674155",
   "metadata": {},
   "outputs": [],
   "source": []
  },
  {
   "cell_type": "code",
   "execution_count": null,
   "id": "9a98fb99-b5a2-4448-8a81-ad631c026447",
   "metadata": {},
   "outputs": [],
   "source": []
  },
  {
   "cell_type": "code",
   "execution_count": null,
   "id": "1aee13d0-850c-4e85-b2bc-3fb500803588",
   "metadata": {},
   "outputs": [],
   "source": []
  }
 ],
 "metadata": {
  "kernelspec": {
   "display_name": "Python 3 (ipykernel)",
   "language": "python",
   "name": "python3"
  },
  "language_info": {
   "codemirror_mode": {
    "name": "ipython",
    "version": 3
   },
   "file_extension": ".py",
   "mimetype": "text/x-python",
   "name": "python",
   "nbconvert_exporter": "python",
   "pygments_lexer": "ipython3",
   "version": "3.12.4"
  }
 },
 "nbformat": 4,
 "nbformat_minor": 5
}
